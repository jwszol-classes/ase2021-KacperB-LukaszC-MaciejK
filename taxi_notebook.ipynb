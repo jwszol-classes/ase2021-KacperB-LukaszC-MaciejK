{
 "cells": [
  {
   "cell_type": "code",
   "execution_count": 1,
   "id": "182b8c26",
   "metadata": {},
   "outputs": [
    {
     "data": {
      "application/vnd.jupyter.widget-view+json": {
       "model_id": "8aa43a9bc2724970a1d884ab0638a25d",
       "version_major": 2,
       "version_minor": 0
      },
      "text/plain": [
       "VBox()"
      ]
     },
     "metadata": {},
     "output_type": "display_data"
    },
    {
     "name": "stdout",
     "output_type": "stream",
     "text": [
      "Starting Spark application\n"
     ]
    },
    {
     "data": {
      "text/html": [
       "<table>\n",
       "<tr><th>ID</th><th>YARN Application ID</th><th>Kind</th><th>State</th><th>Spark UI</th><th>Driver log</th><th>Current session?</th></tr><tr><td>9</td><td>application_1632135889412_0010</td><td>pyspark</td><td>idle</td><td></td><td></td><td>✔</td></tr></table>"
      ],
      "text/plain": [
       "<IPython.core.display.HTML object>"
      ]
     },
     "metadata": {},
     "output_type": "display_data"
    },
    {
     "data": {
      "application/vnd.jupyter.widget-view+json": {
       "model_id": "",
       "version_major": 2,
       "version_minor": 0
      },
      "text/plain": [
       "FloatProgress(value=0.0, bar_style='info', description='Progress:', layout=Layout(height='25px', width='50%'),…"
      ]
     },
     "metadata": {},
     "output_type": "display_data"
    },
    {
     "name": "stdout",
     "output_type": "stream",
     "text": [
      "SparkSession available as 'spark'.\n"
     ]
    },
    {
     "data": {
      "application/vnd.jupyter.widget-view+json": {
       "model_id": "",
       "version_major": 2,
       "version_minor": 0
      },
      "text/plain": [
       "FloatProgress(value=0.0, bar_style='info', description='Progress:', layout=Layout(height='25px', width='50%'),…"
      ]
     },
     "metadata": {},
     "output_type": "display_data"
    },
    {
     "name": "stdout",
     "output_type": "stream",
     "text": [
      "Welcome to my EMR Notebook!"
     ]
    }
   ],
   "source": [
    "print(\"Welcome to my EMR Notebook!\")"
   ]
  },
  {
   "cell_type": "code",
   "execution_count": 2,
   "id": "8362ca48",
   "metadata": {},
   "outputs": [
    {
     "data": {
      "text/html": [
       "Current session configs: <tt>{'proxyUser': 'assumed-role_vocstartsoft_user1565091_s175658_student_pg_edu_pl', 'conf': {'spark.pyspark.python': 'python3', 'spark.pyspark.virtualenv.enabled': 'true', 'spark.pyspark.virtualenv.type': 'native', 'spark.pyspark.virtualenv.bin.path': '/usr/bin/virtualenv'}, 'kind': 'pyspark'}</tt><br>"
      ],
      "text/plain": [
       "<IPython.core.display.HTML object>"
      ]
     },
     "metadata": {},
     "output_type": "display_data"
    },
    {
     "data": {
      "text/html": [
       "<table>\n",
       "<tr><th>ID</th><th>YARN Application ID</th><th>Kind</th><th>State</th><th>Spark UI</th><th>Driver log</th><th>Current session?</th></tr><tr><td>9</td><td>application_1632135889412_0010</td><td>pyspark</td><td>idle</td><td><a target=\"_blank\" href=\"http://ip-172-31-23-195.ec2.internal:20888/proxy/application_1632135889412_0010/\" class=\"emr-proxy-link\" emr-resource=\"j-Z5ZR72BOWI4Q\n",
       "\" application-id=\"application_1632135889412_0010\">Link</a></td><td><a target=\"_blank\" href=\"http://ip-172-31-27-80.ec2.internal:8042/node/containerlogs/container_1632135889412_0010_01_000001/livy\" >Link</a></td><td>✔</td></tr></table>"
      ],
      "text/plain": [
       "<IPython.core.display.HTML object>"
      ]
     },
     "metadata": {},
     "output_type": "display_data"
    }
   ],
   "source": [
    "%%info"
   ]
  },
  {
   "cell_type": "code",
   "execution_count": 3,
   "id": "643b3dc0",
   "metadata": {},
   "outputs": [
    {
     "data": {
      "application/vnd.jupyter.widget-view+json": {
       "model_id": "9938b0da42b64b2fb661738006a69d0e",
       "version_major": 2,
       "version_minor": 0
      },
      "text/plain": [
       "VBox()"
      ]
     },
     "metadata": {},
     "output_type": "display_data"
    },
    {
     "data": {
      "application/vnd.jupyter.widget-view+json": {
       "model_id": "",
       "version_major": 2,
       "version_minor": 0
      },
      "text/plain": [
       "FloatProgress(value=0.0, bar_style='info', description='Progress:', layout=Layout(height='25px', width='50%'),…"
      ]
     },
     "metadata": {},
     "output_type": "display_data"
    },
    {
     "name": "stdout",
     "output_type": "stream",
     "text": [
      "Package                    Version  \n",
      "-------------------------- ---------\n",
      "beautifulsoup4             4.9.3    \n",
      "boto                       2.49.0   \n",
      "click                      7.1.2    \n",
      "jmespath                   0.10.0   \n",
      "joblib                     1.0.1    \n",
      "lxml                       4.6.2    \n",
      "mysqlclient                1.4.2    \n",
      "nltk                       3.5      \n",
      "nose                       1.3.4    \n",
      "numpy                      1.16.5   \n",
      "pip                        9.0.1    \n",
      "py-dateutil                2.2      \n",
      "python37-sagemaker-pyspark 1.4.1    \n",
      "pytz                       2021.1   \n",
      "PyYAML                     5.4.1    \n",
      "regex                      2021.3.17\n",
      "setuptools                 28.8.0   \n",
      "six                        1.13.0   \n",
      "tqdm                       4.59.0   \n",
      "wheel                      0.29.0   \n",
      "windmill                   1.6"
     ]
    }
   ],
   "source": [
    "sc.list_packages()"
   ]
  },
  {
   "cell_type": "code",
   "execution_count": 4,
   "id": "3bbdec11",
   "metadata": {},
   "outputs": [
    {
     "data": {
      "application/vnd.jupyter.widget-view+json": {
       "model_id": "1ac72e01031f4c13bbc51d09d9d166c6",
       "version_major": 2,
       "version_minor": 0
      },
      "text/plain": [
       "VBox()"
      ]
     },
     "metadata": {},
     "output_type": "display_data"
    },
    {
     "data": {
      "application/vnd.jupyter.widget-view+json": {
       "model_id": "",
       "version_major": 2,
       "version_minor": 0
      },
      "text/plain": [
       "FloatProgress(value=0.0, bar_style='info', description='Progress:', layout=Layout(height='25px', width='50%'),…"
      ]
     },
     "metadata": {},
     "output_type": "display_data"
    },
    {
     "name": "stdout",
     "output_type": "stream",
     "text": [
      "Collecting matplotlib\n",
      "  Using cached https://files.pythonhosted.org/packages/7c/ec/3d77b10ac3d30590f5431fd2dc59c58d20c020af107b47f8974896afc5c9/matplotlib-3.4.3-cp37-cp37m-manylinux1_x86_64.whl\n",
      "Requirement already satisfied: numpy>=1.16 in /usr/local/lib64/python3.7/site-packages (from matplotlib)\n",
      "Collecting pyparsing>=2.2.1 (from matplotlib)\n",
      "  Using cached https://files.pythonhosted.org/packages/8a/bb/488841f56197b13700afd5658fc279a2025a39e22449b7cf29864669b15d/pyparsing-2.4.7-py2.py3-none-any.whl\n",
      "Collecting python-dateutil>=2.7 (from matplotlib)\n",
      "  Using cached https://files.pythonhosted.org/packages/36/7a/87837f39d0296e723bb9b62bbb257d0355c7f6128853c78955f57342a56d/python_dateutil-2.8.2-py2.py3-none-any.whl\n",
      "Collecting pillow>=6.2.0 (from matplotlib)\n",
      "  Using cached https://files.pythonhosted.org/packages/d6/28/827b9cac687e086110eb133ab7e4f36ab4b35a1e1654c6329840ce045354/Pillow-8.3.2-cp37-cp37m-manylinux_2_5_x86_64.manylinux1_x86_64.whl\n",
      "Collecting cycler>=0.10 (from matplotlib)\n",
      "  Using cached https://files.pythonhosted.org/packages/f7/d2/e07d3ebb2bd7af696440ce7e754c59dd546ffe1bbe732c8ab68b9c834e61/cycler-0.10.0-py2.py3-none-any.whl\n",
      "Collecting kiwisolver>=1.0.1 (from matplotlib)\n",
      "  Using cached https://files.pythonhosted.org/packages/09/6b/6e567cb2e86d4e5939a9233f8734e26021b6a9c1bc4b1edccba236a84cc2/kiwisolver-1.3.2-cp37-cp37m-manylinux_2_5_x86_64.manylinux1_x86_64.whl\n",
      "Requirement already satisfied: six>=1.5 in /usr/local/lib/python3.7/site-packages (from python-dateutil>=2.7->matplotlib)\n",
      "Installing collected packages: pyparsing, python-dateutil, pillow, cycler, kiwisolver, matplotlib\n",
      "Successfully installed cycler-0.10.0 kiwisolver-1.3.2 matplotlib-3.4.3 pillow-8.3.2 pyparsing-2.4.7 python-dateutil-2.8.2\n",
      "\n",
      "Collecting time\n",
      "\n",
      "\n",
      "  Could not find a version that satisfies the requirement time (from versions: )\n",
      "No matching distribution found for time"
     ]
    }
   ],
   "source": [
    "sc.install_pypi_package(\"matplotlib\", \"https://pypi.org/simple\") #Install matplotlib from given PyPI repository\n",
    "sc.install_pypi_package(\"time\") #Install pandas version 0.25.1 "
   ]
  },
  {
   "cell_type": "code",
   "execution_count": 5,
   "id": "0d47d3e3",
   "metadata": {},
   "outputs": [
    {
     "data": {
      "application/vnd.jupyter.widget-view+json": {
       "model_id": "28376879429c4f2b8aba9e03a173ad99",
       "version_major": 2,
       "version_minor": 0
      },
      "text/plain": [
       "VBox()"
      ]
     },
     "metadata": {},
     "output_type": "display_data"
    },
    {
     "data": {
      "application/vnd.jupyter.widget-view+json": {
       "model_id": "",
       "version_major": 2,
       "version_minor": 0
      },
      "text/plain": [
       "FloatProgress(value=0.0, bar_style='info', description='Progress:', layout=Layout(height='25px', width='50%'),…"
      ]
     },
     "metadata": {},
     "output_type": "display_data"
    }
   ],
   "source": [
    "import pyspark.sql.functions as F\n",
    "import matplotlib.pyplot as plt\n",
    "import numpy as np\n",
    "import time"
   ]
  },
  {
   "cell_type": "code",
   "execution_count": 6,
   "id": "f9939f9e",
   "metadata": {},
   "outputs": [
    {
     "data": {
      "application/vnd.jupyter.widget-view+json": {
       "model_id": "fe1383915ccb4252be24dbd6c3946e7f",
       "version_major": 2,
       "version_minor": 0
      },
      "text/plain": [
       "VBox()"
      ]
     },
     "metadata": {},
     "output_type": "display_data"
    },
    {
     "data": {
      "application/vnd.jupyter.widget-view+json": {
       "model_id": "",
       "version_major": 2,
       "version_minor": 0
      },
      "text/plain": [
       "FloatProgress(value=0.0, bar_style='info', description='Progress:', layout=Layout(height='25px', width='50%'),…"
      ]
     },
     "metadata": {},
     "output_type": "display_data"
    }
   ],
   "source": [
    "entry_green_taxi_df_2019_5 = spark.read.csv(\"s3://nyc-tlc/trip data/green_tripdata_2019-05.csv\", header=True, inferSchema=True)\n",
    "entry_yellow_taxi_df_2019_5 = spark.read.csv(\"s3://nyc-tlc/trip data/yellow_tripdata_2019-05.csv\", header=True, inferSchema=True)\n",
    "entry_green_taxi_df_2020_5 = spark.read.csv(\"s3://nyc-tlc/trip data/green_tripdata_2020-05.csv\", header=True, inferSchema=True)\n",
    "entry_yellow_taxi_df_2020_5 = spark.read.csv(\"s3://nyc-tlc/trip data/yellow_tripdata_2020-05.csv\", header=True, inferSchema=True)"
   ]
  },
  {
   "cell_type": "code",
   "execution_count": 36,
   "id": "84cb1b1c",
   "metadata": {},
   "outputs": [
    {
     "data": {
      "application/vnd.jupyter.widget-view+json": {
       "model_id": "c401c7f47c5d45d4ae58d48442674522",
       "version_major": 2,
       "version_minor": 0
      },
      "text/plain": [
       "VBox()"
      ]
     },
     "metadata": {},
     "output_type": "display_data"
    },
    {
     "data": {
      "application/vnd.jupyter.widget-view+json": {
       "model_id": "",
       "version_major": 2,
       "version_minor": 0
      },
      "text/plain": [
       "FloatProgress(value=0.0, bar_style='info', description='Progress:', layout=Layout(height='25px', width='50%'),…"
      ]
     },
     "metadata": {},
     "output_type": "display_data"
    }
   ],
   "source": [
    "# we need to extract passenger_count and payment_type\n",
    "start_time = time.time()\n",
    "\n",
    "green_2019  = entry_green_taxi_df_2019_5.select([\"passenger_count\", \"payment_type\"])\n",
    "yellow_2019  = entry_yellow_taxi_df_2019_5.select([\"passenger_count\", \"payment_type\"])\n",
    "green_2020  = entry_green_taxi_df_2020_5.select([\"passenger_count\", \"payment_type\"])\n",
    "yellow_2020  = entry_yellow_taxi_df_2020_5.select([\"passenger_count\", \"payment_type\"])"
   ]
  },
  {
   "cell_type": "code",
   "execution_count": 37,
   "id": "1c78003a",
   "metadata": {},
   "outputs": [
    {
     "data": {
      "application/vnd.jupyter.widget-view+json": {
       "model_id": "3a02034d50ed44dca31470d158fb3a7c",
       "version_major": 2,
       "version_minor": 0
      },
      "text/plain": [
       "VBox()"
      ]
     },
     "metadata": {},
     "output_type": "display_data"
    },
    {
     "data": {
      "application/vnd.jupyter.widget-view+json": {
       "model_id": "",
       "version_major": 2,
       "version_minor": 0
      },
      "text/plain": [
       "FloatProgress(value=0.0, bar_style='info', description='Progress:', layout=Layout(height='25px', width='50%'),…"
      ]
     },
     "metadata": {},
     "output_type": "display_data"
    },
    {
     "name": "stdout",
     "output_type": "stream",
     "text": [
      "--- 60.884305238723755 seconds ---"
     ]
    }
   ],
   "source": [
    "data_2020 = green_2020.union(yellow_2020)\n",
    "data_2019 = green_2019.union(yellow_2019)\n",
    "\n",
    "data = data_2020.union(data_2019) #whole data\n",
    "\n",
    "#data = data_2019 #only 2019\n",
    "\n",
    "#data = data_2020 #only 2020\n",
    "\n",
    "data_1_pass = data.filter(\"passenger_count == 1\")\n",
    "data_2_pass = data.filter(\"passenger_count == 2\")\n",
    "data_3_pass = data.filter(\"passenger_count == 3\")\n",
    "data_4_pass = data.filter(\"passenger_count == 4\")\n",
    "data_5andMore_pass = data.filter(\"passenger_count > 4\")\n",
    "our_frames = [data_1_pass,data_2_pass,data_3_pass,data_4_pass,data_5andMore_pass]\n",
    "\n",
    "\n",
    "labels = [\"Card\",\"Cash\",\"No charge\",\"Dispute\",\"Unknown\"]\n",
    "x = np.arange(len(labels))\n",
    "width = 0.7\n",
    "fig, ax = plt.subplots()\n",
    "\n",
    "percentages_for_each_nr_of_pass = []\n",
    "for passenger_count in our_frames:\n",
    "    data_grouped_by_payment_type = passenger_count.groupBy(\"payment_type\").count().sort(\"payment_type\")\n",
    "    total_num_of_payments = data_grouped_by_payment_type.agg(F.sum(\"count\")).collect()[0][0]\n",
    "\n",
    "    data_with_percentage_column = data_grouped_by_payment_type.withColumn('Percentage', (100*data_grouped_by_payment_type['count'] / float(total_num_of_payments)))\n",
    "    only_percentage_data = data_with_percentage_column.select([\"Percentage\"])\n",
    "    zmienna = only_percentage_data.select('Percentage').rdd.flatMap(lambda x: x).collect()\n",
    "    if len(zmienna)<5:\n",
    "        zmienna.append(0)\n",
    "    percentages_for_each_nr_of_pass.append(zmienna)\n",
    "    \n",
    "print(\"--- %s seconds ---\" % (time.time() - start_time))\n",
    "\n",
    "rects1 = ax.bar(x-width/5, percentages_for_each_nr_of_pass[0], width/5, label=\"1 passenger\")\n",
    "rects2 = ax.bar(x-2*width/5, percentages_for_each_nr_of_pass[1], width/5, label=\"2 passengers\")\n",
    "rects3 = ax.bar(x, percentages_for_each_nr_of_pass[2], width/5, label=\"3 passengers\")\n",
    "rects4 = ax.bar(x+width/5, percentages_for_each_nr_of_pass[3], width/5, label=\"4 passengers\")\n",
    "rects5 = ax.bar(x+2*width/5, percentages_for_each_nr_of_pass[4], width/5, label=\"5 or more\")\n",
    "\n",
    "ax.set_ylabel(\"Percentage of transactions\")\n",
    "ax.set_title(\"Percentages of transactions by number of passengers in may 2020\")\n",
    "ax.set_xticks(x)\n",
    "ax.set_xticklabels(labels)\n",
    "ax.legend()\n",
    "\n",
    "fig.tight_layout()"
   ]
  },
  {
   "cell_type": "code",
   "execution_count": 38,
   "id": "d9f294f8",
   "metadata": {},
   "outputs": [
    {
     "data": {
      "application/vnd.jupyter.widget-view+json": {
       "model_id": "",
       "version_major": 2,
       "version_minor": 0
      },
      "text/plain": [
       "FloatProgress(value=0.0, bar_style='info', description='Progress:', layout=Layout(height='25px', width='50%'),…"
      ]
     },
     "metadata": {},
     "output_type": "display_data"
    },
    {
     "data": {
      "image/png": "[encoded data removed]",
      "text/plain": [
       "<IPython.core.display.Image object>"
      ]
     },
     "metadata": {},
     "output_type": "display_data"
    }
   ],
   "source": [
    "%matplot plt"
   ]
  },
  {
   "cell_type": "code",
   "execution_count": 39,
   "id": "63550648",
   "metadata": {},
   "outputs": [
    {
     "data": {
      "application/vnd.jupyter.widget-view+json": {
       "model_id": "8e67ee7561da452ba9717d8ec0f87ab0",
       "version_major": 2,
       "version_minor": 0
      },
      "text/plain": [
       "VBox()"
      ]
     },
     "metadata": {},
     "output_type": "display_data"
    },
    {
     "data": {
      "application/vnd.jupyter.widget-view+json": {
       "model_id": "",
       "version_major": 2,
       "version_minor": 0
      },
      "text/plain": [
       "FloatProgress(value=0.0, bar_style='info', description='Progress:', layout=Layout(height='25px', width='50%'),…"
      ]
     },
     "metadata": {},
     "output_type": "display_data"
    },
    {
     "name": "stdout",
     "output_type": "stream",
     "text": [
      "[[71.64988701700622, 27.575517155444654, 0.5647665253891709, 0.20954987903598324, 0.0002794231239749756], [69.64115321130713, 29.69140783248906, 0.4773519397078469, 0.18991961269456506, 0.00016740380140552232], [68.76930669542489, 30.600693365503542, 0.43838003497291733, 0.1913152619617735, 0.0003046421368818049], [64.63307346651507, 34.60559796437659, 0.5637215093931027, 0.19760705971522927, 0], [71.63264842688507, 28.167140386267555, 0.14098046710897316, 0.05923071973840081, 0]]"
     ]
    }
   ],
   "source": [
    "print(percentages_for_each_nr_of_pass)"
   ]
  },
  {
   "cell_type": "code",
   "execution_count": 40,
   "id": "bc6eda16",
   "metadata": {},
   "outputs": [
    {
     "data": {
      "application/vnd.jupyter.widget-view+json": {
       "model_id": "f31d185659284e3fb5ae011727cdd751",
       "version_major": 2,
       "version_minor": 0
      },
      "text/plain": [
       "VBox()"
      ]
     },
     "metadata": {},
     "output_type": "display_data"
    },
    {
     "data": {
      "application/vnd.jupyter.widget-view+json": {
       "model_id": "",
       "version_major": 2,
       "version_minor": 0
      },
      "text/plain": [
       "FloatProgress(value=0.0, bar_style='info', description='Progress:', layout=Layout(height='25px', width='50%'),…"
      ]
     },
     "metadata": {},
     "output_type": "display_data"
    }
   ],
   "source": [
    "data_card_2019 = data_2019.filter(\"payment_type == 1\")\n",
    "data_cash_2019= data_2019.filter(\"payment_type == 2\")\n",
    "data_other_2019 = data_2019.filter(\"payment_type > 2\")\n",
    "\n",
    "\n",
    "\n",
    "data_card_2020 = data_2020.filter(\"payment_type == 1\")\n",
    "data_cash_2020 = data_2020.filter(\"payment_type == 2\")\n",
    "data_other_2020 = data_2020.filter(\"payment_type > 2\")\n",
    "\n"
   ]
  },
  {
   "cell_type": "code",
   "execution_count": 50,
   "id": "cf6f2392",
   "metadata": {},
   "outputs": [
    {
     "data": {
      "application/vnd.jupyter.widget-view+json": {
       "model_id": "db0c826b7a3f4ecebc8e72484b7e8e46",
       "version_major": 2,
       "version_minor": 0
      },
      "text/plain": [
       "VBox()"
      ]
     },
     "metadata": {},
     "output_type": "display_data"
    },
    {
     "data": {
      "application/vnd.jupyter.widget-view+json": {
       "model_id": "",
       "version_major": 2,
       "version_minor": 0
      },
      "text/plain": [
       "FloatProgress(value=0.0, bar_style='info', description='Progress:', layout=Layout(height='25px', width='50%'),…"
      ]
     },
     "metadata": {},
     "output_type": "display_data"
    },
    {
     "name": "stdout",
     "output_type": "stream",
     "text": [
      "([<matplotlib.patches.Wedge object at 0x7f8a6af89ad0>, <matplotlib.patches.Wedge object at 0x7f8a6af15290>, <matplotlib.patches.Wedge object at 0x7f8a6af15a90>], [Text(-0.3142082219716108, 1.0541694328927582, 'Card'), Text(0.25171220052291327, -1.0708132274621531, 'Cash'), Text(1.0980987453308084, -0.06464631082207598, 'Other')], [Text(-0.17138630289360587, 0.5750015088505953, '59.2%'), Text(0.13729756392158904, -0.5840799422520835, '38.9%'), Text(0.5989629519986227, -0.035261624084768704, '1.9%')])"
     ]
    }
   ],
   "source": [
    "# Some data\n",
    "overall_card_2019 = data_card_2019.count()\n",
    "overall_cash_2019 = data_cash_2019.count()\n",
    "overall_other_2019 = data_other_2019.count()\n",
    "\n",
    "overall_card_2020 = data_card_2020.count()\n",
    "overall_cash_2020 = data_cash_2020.count()\n",
    "overall_other_2020 = data_other_2020.count()\n",
    "\n",
    "\n",
    "labels = 'Card', 'Cash', 'Other'\n",
    "fracs_2019 = [overall_card_2019, overall_cash_2019, overall_other_2019]\n",
    "fracs_2020 = [overall_card_2020, overall_cash_2020, overall_other_2020]\n",
    "# Make figure and axes\n",
    "fig, axs = plt.subplots(1, 2)\n",
    "\n",
    "# A standard pie plot\n",
    "axs[0].pie(fracs_2019, labels=labels, autopct='%1.1f%%')\n",
    "\n",
    "# Shift the second slice using explode\n",
    "axs[1].pie(fracs_2020, labels=labels, autopct='%1.1f%%')\n",
    "\n",
    "\n"
   ]
  },
  {
   "cell_type": "code",
   "execution_count": 43,
   "id": "7aeb65ce",
   "metadata": {},
   "outputs": [
    {
     "data": {
      "application/vnd.jupyter.widget-view+json": {
       "model_id": "",
       "version_major": 2,
       "version_minor": 0
      },
      "text/plain": [
       "FloatProgress(value=0.0, bar_style='info', description='Progress:', layout=Layout(height='25px', width='50%'),…"
      ]
     },
     "metadata": {},
     "output_type": "display_data"
    },
    {
     "data": {
      "image/png": "[encoded data removed]",
      "text/plain": [
       "<IPython.core.display.Image object>"
      ]
     },
     "metadata": {},
     "output_type": "display_data"
    }
   ],
   "source": [
    "%matplot plt"
   ]
  },
  {
   "cell_type": "code",
   "execution_count": 48,
   "id": "356a7553",
   "metadata": {},
   "outputs": [
    {
     "data": {
      "application/vnd.jupyter.widget-view+json": {
       "model_id": "fa7f1ce810484b78b82ca65e6b8326dc",
       "version_major": 2,
       "version_minor": 0
      },
      "text/plain": [
       "VBox()"
      ]
     },
     "metadata": {},
     "output_type": "display_data"
    },
    {
     "data": {
      "application/vnd.jupyter.widget-view+json": {
       "model_id": "",
       "version_major": 2,
       "version_minor": 0
      },
      "text/plain": [
       "FloatProgress(value=0.0, bar_style='info', description='Progress:', layout=Layout(height='25px', width='50%'),…"
      ]
     },
     "metadata": {},
     "output_type": "display_data"
    },
    {
     "name": "stdout",
     "output_type": "stream",
     "text": [
      "8070148\n",
      "405731"
     ]
    }
   ],
   "source": [
    "print(data_2019.count())\n",
    "print(data_2020.count())"
   ]
  },
  {
   "cell_type": "code",
   "execution_count": null,
   "id": "d74121fe",
   "metadata": {},
   "outputs": [],
   "source": []
  }
 ],
 "metadata": {
  "kernelspec": {
   "display_name": "PySpark",
   "language": "",
   "name": "pysparkkernel"
  },
  "language_info": {
   "codemirror_mode": {
    "name": "python",
    "version": 3
   },
   "mimetype": "text/x-python",
   "name": "pyspark",
   "pygments_lexer": "python3"
  }
 },
 "nbformat": 4,
 "nbformat_minor": 5
}
